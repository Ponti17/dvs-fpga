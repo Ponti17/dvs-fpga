{
 "cells": [
  {
   "cell_type": "code",
   "execution_count": 1,
   "metadata": {},
   "outputs": [],
   "source": [
    "import numpy as np\n",
    "from hwcomponents import DataStructures as ds \n",
    "from hwcomponents import Utils"
   ]
  },
  {
   "cell_type": "code",
   "execution_count": 2,
   "metadata": {},
   "outputs": [
    {
     "data": {
      "text/plain": [
       "Neuron For Memory(leak_str=1, threshold=20, reset=0, core=0)"
      ]
     },
     "execution_count": 2,
     "metadata": {},
     "output_type": "execute_result"
    }
   ],
   "source": [
    "# Test Neuron datastructure\n",
    "ds.Neuron(\n",
    "    param_leak_str=1,\n",
    "    param_threshold=20,\n",
    "    param_reset=0,\n",
    "    state_core=0\n",
    ")"
   ]
  },
  {
   "cell_type": "code",
   "execution_count": 3,
   "metadata": {},
   "outputs": [
    {
     "data": {
      "text/plain": [
       "Synapse For Memory(length=10, weights=[0 0 0 0 0 0 0 0 0 0])"
      ]
     },
     "execution_count": 3,
     "metadata": {},
     "output_type": "execute_result"
    }
   ],
   "source": [
    "# Test Synapse datastructure\n",
    "ds.Synapse(\n",
    "    length=10,\n",
    "    word_size=np.uint8\n",
    ")"
   ]
  },
  {
   "cell_type": "code",
   "execution_count": 4,
   "metadata": {},
   "outputs": [
    {
     "data": {
      "text/plain": [
       "Neuron For Memory(leak_str=5.0, threshold=79.0, reset=6.0, core=0)"
      ]
     },
     "execution_count": 4,
     "metadata": {},
     "output_type": "execute_result"
    }
   ],
   "source": [
    "# ex of random neuron generator\n",
    "def random_neuron() -> ds.Neuron:\n",
    "    return ds.Neuron(\n",
    "        param_leak_str=Utils.DiscreteNORM(2**3, 2, 0, 2**5),\n",
    "        param_threshold=Utils.DiscreteNORM(2**6, 2**3, 0, 2**11),\n",
    "        state_core=0,\n",
    "        param_reset=Utils.DiscreteNORM(4., 1., 0, 2**3)\n",
    "    )\n",
    "\n",
    "random_neuron()"
   ]
  },
  {
   "cell_type": "code",
   "execution_count": 5,
   "metadata": {},
   "outputs": [
    {
     "name": "stdout",
     "output_type": "stream",
     "text": [
      "Neuron For Memory(leak_str=6.0, threshold=58.0, reset=5.0, core=0)\n",
      "Neuron For Memory(leak_str=9.0, threshold=73.0, reset=5.0, core=0)\n",
      "Neuron For Memory(leak_str=8.0, threshold=55.0, reset=6.0, core=0)\n",
      "Neuron For Memory(leak_str=6.0, threshold=78.0, reset=3.0, core=0)\n",
      "Neuron For Memory(leak_str=6.0, threshold=57.0, reset=4.0, core=0)\n",
      "Neuron For Memory(leak_str=9.0, threshold=54.0, reset=3.0, core=0)\n",
      "Neuron For Memory(leak_str=7.0, threshold=66.0, reset=3.0, core=0)\n",
      "Neuron For Memory(leak_str=11.0, threshold=75.0, reset=5.0, core=0)\n",
      "Neuron For Memory(leak_str=7.0, threshold=75.0, reset=3.0, core=0)\n",
      "Neuron For Memory(leak_str=15.0, threshold=61.0, reset=3.0, core=0)\n"
     ]
    }
   ],
   "source": [
    "# ex of BRAM with random neurons\n",
    "from hwcomponents import BRAM as bram\n",
    "\n",
    "amount_of_neurons = 10\n",
    "neuron_generator = lambda: random_neuron()\n",
    "\n",
    "example_bram_for_neurons = bram.Neurons(\n",
    "    length=amount_of_neurons,\n",
    "    randomize_fun=neuron_generator\n",
    ")\n",
    "\n",
    "for i in range(example_bram_for_neurons.length):\n",
    "    print(example_bram_for_neurons[i])"
   ]
  },
  {
   "cell_type": "code",
   "execution_count": 6,
   "metadata": {},
   "outputs": [],
   "source": [
    "# ex of random synapse generator\n",
    "# generate a synapse register for one neuron. \n",
    "# in this case it generates a 2-bit synaptic weight (0..3 in decimal)\n",
    "\n",
    "def random_synapse(depth: int) -> ds.Synapse:\n",
    "    temp_synapse = ds.Synapse(depth, np.int8)\n",
    "    for i in range(depth):\n",
    "        temp_synapse[i] = Utils.DiscreteNORM(0.5, 1., 0, 3)\n",
    "    return temp_synapse"
   ]
  },
  {
   "cell_type": "code",
   "execution_count": 7,
   "metadata": {},
   "outputs": [
    {
     "name": "stdout",
     "output_type": "stream",
     "text": [
      "Synapse For Memory(length=10, weights=[1 0 1 1 0 1 1 1 1 2])\n",
      "Synapse For Memory(length=10, weights=[0 1 0 1 0 1 1 1 0 0])\n",
      "Synapse For Memory(length=10, weights=[1 1 1 2 1 0 1 0 0 2])\n",
      "Synapse For Memory(length=10, weights=[2 2 0 1 0 0 2 1 1 1])\n",
      "Synapse For Memory(length=10, weights=[1 2 0 3 1 2 1 0 0 2])\n",
      "Synapse For Memory(length=10, weights=[0 0 0 1 0 0 0 1 0 0])\n",
      "Synapse For Memory(length=10, weights=[0 0 0 1 2 1 0 0 0 1])\n",
      "Synapse For Memory(length=10, weights=[0 1 2 0 3 1 0 2 1 1])\n",
      "Synapse For Memory(length=10, weights=[1 1 0 0 0 0 0 0 2 1])\n",
      "Synapse For Memory(length=10, weights=[0 0 1 0 0 0 0 1 1 1])\n"
     ]
    }
   ],
   "source": [
    "# ex of BRAM with random synapses, lets make 10 synapses for 10 neurons\n",
    "from hwcomponents import BRAM as bram\n",
    "amount_of_synapses = amount_of_neurons = 10\n",
    "\n",
    "example_of_bram_for_synapses = bram.Synapses(\n",
    "    length=amount_of_neurons,\n",
    "    depth=amount_of_synapses,\n",
    "    word_size=np.int8,\n",
    "    randomize_fun=random_synapse #the generator function must have a depth parameter\n",
    ")\n",
    "for i in range(example_of_bram_for_synapses.length):\n",
    "    print(example_of_bram_for_synapses[i])"
   ]
  },
  {
   "cell_type": "code",
   "execution_count": 8,
   "metadata": {},
   "outputs": [
    {
     "name": "stdout",
     "output_type": "stream",
     "text": [
      "Neuron state and params: \n",
      " - Leak strength: \t6.0 \n",
      " - threshold: \t\t58.0 \n",
      " - reset value: \t5.0 \n",
      " - core state: \t\t0\n",
      "\n",
      "Synapse weight:  1 \n",
      "\n",
      "Neuron state and params: \n",
      " - Leak strength: \t6.0 \n",
      " - threshold: \t\t58.0 \n",
      " - reset value: \t5.0 \n",
      " - core state: \t\t1\n"
     ]
    }
   ],
   "source": [
    "# LIF example\n",
    "from hwcomponents import Neurons as N\n",
    "active_neuron = N.LIF() # Lif neuron object \n",
    "\n",
    "# Update Neuron state, expects a DataStructures.Neuron object\n",
    "# Lets grab one of the previously generated neurons\n",
    "neuron_idx, weight_idx = 0, 5\n",
    "\n",
    "neurons = example_bram_for_neurons\n",
    "synapses = example_of_bram_for_synapses\n",
    "\n",
    "active_neuron.change_neuron(neuron=neurons[0])\n",
    "active_neuron.change_weight(synapses[neuron_idx][weight_idx])\n",
    "Utils.Print.PrettyNeuron(neurons[0])\n",
    "print(\"\\nSynapse weight: \", synapses[neuron_idx][weight_idx], \"\\n\")\n",
    "\n",
    "# Simulate Spike event on input synapse\n",
    "active_neuron.forward(\n",
    "    input = 1\n",
    ")\n",
    "\n",
    "# Print the updated neuron\n",
    "Utils.Print.PrettyNeuron(neurons[0])"
   ]
  },
  {
   "cell_type": "code",
   "execution_count": 9,
   "metadata": {},
   "outputs": [
    {
     "name": "stdout",
     "output_type": "stream",
     "text": [
      "InputSample(input_data=[ 0.  0. -0. -0.  0. -1. -1.  0. -1.  0.])\n"
     ]
    }
   ],
   "source": [
    "# Lets manage some inputs. They are in the DataStructures namespace\n",
    "from hwcomponents import DataStructures as ds\n",
    "\n",
    "# Lets make a random generator\n",
    "def random_input_sample(length: int) -> np.array:\n",
    "    return np.array([\n",
    "        Utils.DiscreteNORM(.1, .5, -1, 1) for _ in range(length)\n",
    "    ])\n",
    "\n",
    "# Lets make a random input sample\n",
    "\n",
    "ex_sample = ds.InputSample(\n",
    "    length=10,\n",
    "    randomize_fun=random_input_sample\n",
    ")\n",
    "\n",
    "print(ex_sample)"
   ]
  },
  {
   "cell_type": "code",
   "execution_count": 11,
   "metadata": {},
   "outputs": [
    {
     "name": "stdout",
     "output_type": "stream",
     "text": [
      "InputSample(input_data=[ 0.  1.  0.  0.  0. -1.  0.  1.  1.  1.])\n",
      "InputSample(input_data=[-1.  1.  1. -1.  0.  0.  0.  1.  1. -0.])\n",
      "InputSample(input_data=[ 1.  0.  0.  1.  1.  0.  0. -0.  0.  0.])\n",
      "InputSample(input_data=[ 0.  0.  0.  0.  1.  0. -0.  0. -0.  1.])\n",
      "InputSample(input_data=[-0.  0.  1.  1. -0. -0. -1.  1. -0.  1.])\n",
      "InputSample(input_data=[ 1. -0.  1.  1. -0.  0.  0.  0.  0.  1.])\n",
      "InputSample(input_data=[ 1.  0. -0.  0. -0. -0.  0. -0.  1.  0.])\n",
      "InputSample(input_data=[ 1.  0.  1.  1. -0. -0.  0.  0. -0. -0.])\n",
      "InputSample(input_data=[-0.  1. -0. -0. -1.  0.  1. -0.  0. -0.])\n",
      "InputSample(input_data=[ 1.  1. -0. -0.  0. -0. -0. -0. -0.  0.])\n"
     ]
    }
   ],
   "source": [
    "# We can subclass the InputSample class to make a custom input sample\n",
    "# We can put our inputsamples into collections\n",
    "from typing import Callable\n",
    "\n",
    "def generate_random_samples(\n",
    "        amount_of_samples: int,\n",
    "        sample_length: int,\n",
    "        sample_random_gen: Callable[[int], np.ndarray]\n",
    "):\n",
    "    data_collection = ds.InputData() # instantiate the data wrapper\n",
    "    for _ in range(amount_of_samples):\n",
    "        data_collection.add_sample(\n",
    "            ds.InputSample(sample_length, randomize_fun=sample_random_gen)\n",
    "        )\n",
    "    return data_collection\n",
    "\n",
    "test_data = generate_random_samples(10, 10, random_input_sample)\n",
    "\n",
    "# lets make a heatmap of the data\n",
    "for i in range(len(test_data)):\n",
    "    print(test_data[i])\n"
   ]
  },
  {
   "cell_type": "code",
   "execution_count": 12,
   "metadata": {},
   "outputs": [
    {
     "data": {
      "image/png": "[encoded data removed]",
      "text/plain": [
       "<Figure size 1000x600 with 2 Axes>"
      ]
     },
     "metadata": {},
     "output_type": "display_data"
    }
   ],
   "source": [
    "Utils.Plotting.input_data_as_heatmap(test_data)"
   ]
  }
 ],
 "metadata": {
  "kernelspec": {
   "display_name": ".venv",
   "language": "python",
   "name": "python3"
  },
  "language_info": {
   "codemirror_mode": {
    "name": "ipython",
    "version": 3
   },
   "file_extension": ".py",
   "mimetype": "text/x-python",
   "name": "python",
   "nbconvert_exporter": "python",
   "pygments_lexer": "ipython3",
   "version": "3.11.9"
  }
 },
 "nbformat": 4,
 "nbformat_minor": 2
}
