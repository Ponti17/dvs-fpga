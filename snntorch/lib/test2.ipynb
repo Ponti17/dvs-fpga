{
 "cells": [
  {
   "cell_type": "code",
   "execution_count": 5,
   "metadata": {},
   "outputs": [],
   "source": [
    "import numpy as np\n",
    "from hwcomponents import DataStructures as ds \n",
    "from hwcomponents import Utils"
   ]
  },
  {
   "cell_type": "code",
   "execution_count": 2,
   "metadata": {},
   "outputs": [
    {
     "data": {
      "text/plain": [
       "Neuron For Memory(leak_str=1, threshold=20, reset=0, core=0)"
      ]
     },
     "execution_count": 2,
     "metadata": {},
     "output_type": "execute_result"
    }
   ],
   "source": [
    "# Test Neuron datastructure\n",
    "ds.Neuron(\n",
    "    param_leak_str=1,\n",
    "    param_threshold=20,\n",
    "    param_reset=0,\n",
    "    state_core=0\n",
    ")"
   ]
  },
  {
   "cell_type": "code",
   "execution_count": 3,
   "metadata": {},
   "outputs": [
    {
     "data": {
      "text/plain": [
       "Synapse For Memory(length=10, weights=[0 0 0 0 0 0 0 0 0 0])"
      ]
     },
     "execution_count": 3,
     "metadata": {},
     "output_type": "execute_result"
    }
   ],
   "source": [
    "# Test Synapse datastructure\n",
    "ds.Synapse(\n",
    "    length=10,\n",
    "    word_size=np.uint8\n",
    ")"
   ]
  },
  {
   "cell_type": "code",
   "execution_count": 6,
   "metadata": {},
   "outputs": [],
   "source": [
    "def random_neuron() -> ds.Neuron:\n",
    "    return ds.Neuron(\n",
    "        param_leak_str=(2**3, 2, 0, 2**5),\n",
    "        param_threshold=(2**6, 2**3, 0, 2**11),\n",
    "        state_core=0,\n",
    "        param_reset=(4., 1., 0, 2**3)\n",
    "    )"
   ]
  },
  {
   "cell_type": "code",
   "execution_count": null,
   "metadata": {},
   "outputs": [],
   "source": []
  }
 ],
 "metadata": {
  "kernelspec": {
   "display_name": ".venv",
   "language": "python",
   "name": "python3"
  },
  "language_info": {
   "codemirror_mode": {
    "name": "ipython",
    "version": 3
   },
   "file_extension": ".py",
   "mimetype": "text/x-python",
   "name": "python",
   "nbconvert_exporter": "python",
   "pygments_lexer": "ipython3",
   "version": "3.11.9"
  }
 },
 "nbformat": 4,
 "nbformat_minor": 2
}
