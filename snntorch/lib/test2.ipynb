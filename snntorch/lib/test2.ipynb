{
 "cells": [
  {
   "cell_type": "code",
   "execution_count": 7,
   "metadata": {},
   "outputs": [],
   "source": [
    "import numpy as np\n",
    "from hwcomponents import DataStructures as ds \n",
    "from hwcomponents import Utils"
   ]
  },
  {
   "cell_type": "code",
   "execution_count": 8,
   "metadata": {},
   "outputs": [
    {
     "data": {
      "text/plain": [
       "Neuron For Memory(leak_str=1, threshold=20, reset=0, core=0)"
      ]
     },
     "execution_count": 8,
     "metadata": {},
     "output_type": "execute_result"
    }
   ],
   "source": [
    "# Test Neuron datastructure\n",
    "ds.Neuron(\n",
    "    param_leak_str=1,\n",
    "    param_threshold=20,\n",
    "    param_reset=0,\n",
    "    state_core=0\n",
    ")"
   ]
  },
  {
   "cell_type": "code",
   "execution_count": 9,
   "metadata": {},
   "outputs": [
    {
     "data": {
      "text/plain": [
       "Synapse For Memory(length=10, weights=[0 0 0 0 0 0 0 0 0 0])"
      ]
     },
     "execution_count": 9,
     "metadata": {},
     "output_type": "execute_result"
    }
   ],
   "source": [
    "# Test Synapse datastructure\n",
    "ds.Synapse(\n",
    "    length=10,\n",
    "    word_size=np.uint8\n",
    ")"
   ]
  },
  {
   "cell_type": "code",
   "execution_count": 10,
   "metadata": {},
   "outputs": [
    {
     "data": {
      "text/plain": [
       "Neuron For Memory(leak_str=5.0, threshold=61.0, reset=4.0, core=0)"
      ]
     },
     "execution_count": 10,
     "metadata": {},
     "output_type": "execute_result"
    }
   ],
   "source": [
    "# ex of random neuron generator\n",
    "def random_neuron() -> ds.Neuron:\n",
    "    return ds.Neuron(\n",
    "        param_leak_str=Utils.DiscreteNORM(2**3, 2, 0, 2**5),\n",
    "        param_threshold=Utils.DiscreteNORM(2**6, 2**3, 0, 2**11),\n",
    "        state_core=0,\n",
    "        param_reset=Utils.DiscreteNORM(4., 1., 0, 2**3)\n",
    "    )\n",
    "\n",
    "random_neuron()"
   ]
  },
  {
   "cell_type": "code",
   "execution_count": 18,
   "metadata": {},
   "outputs": [
    {
     "name": "stdout",
     "output_type": "stream",
     "text": [
      "Neuron For Memory(leak_str=6.0, threshold=64.0, reset=3.0, core=0)\n",
      "Neuron For Memory(leak_str=11.0, threshold=69.0, reset=6.0, core=0)\n",
      "Neuron For Memory(leak_str=7.0, threshold=60.0, reset=4.0, core=0)\n",
      "Neuron For Memory(leak_str=11.0, threshold=65.0, reset=4.0, core=0)\n",
      "Neuron For Memory(leak_str=6.0, threshold=65.0, reset=6.0, core=0)\n",
      "Neuron For Memory(leak_str=8.0, threshold=78.0, reset=4.0, core=0)\n",
      "Neuron For Memory(leak_str=10.0, threshold=59.0, reset=3.0, core=0)\n",
      "Neuron For Memory(leak_str=7.0, threshold=70.0, reset=5.0, core=0)\n",
      "Neuron For Memory(leak_str=7.0, threshold=52.0, reset=4.0, core=0)\n",
      "Neuron For Memory(leak_str=10.0, threshold=62.0, reset=3.0, core=0)\n"
     ]
    }
   ],
   "source": [
    "# ex of BRAM with random neurons\n",
    "from hwcomponents import BRAM as bram\n",
    "\n",
    "amount_of_neurons = 10\n",
    "neuron_generator = lambda: random_neuron()\n",
    "\n",
    "example_bram_for_neurons = bram.Neurons(\n",
    "    length=amount_of_neurons,\n",
    "    randomize_fun=neuron_generator\n",
    ")\n",
    "\n",
    "for i in range(example_bram_for_neurons.length):\n",
    "    print(example_bram_for_neurons[i])"
   ]
  },
  {
   "cell_type": "code",
   "execution_count": null,
   "metadata": {},
   "outputs": [],
   "source": [
    "# ex of random synapse generator\n",
    "# generate a synapse register for one neuron. \n",
    "# in this case it generates a 2-bit synaptic weight (0..3 in decimal)\n",
    "\n",
    "def random_synapse(depth: int) -> ds.Synapse:\n",
    "    temp_synapse = ds.Synapse(depth, np.int8)\n",
    "    for i in range(depth):\n",
    "        temp_synapse[i] = Utils.DiscreteNORM(0.5, 1., 0, 3)\n",
    "    return temp_synapse"
   ]
  },
  {
   "cell_type": "code",
   "execution_count": null,
   "metadata": {},
   "outputs": [],
   "source": [
    "# ex of BRAM with random synapses\n",
    "from hwcomponents import BRAM as bram\n",
    "amount_of_synapses = 10\n",
    "\n",
    "\n"
   ]
  }
 ],
 "metadata": {
  "kernelspec": {
   "display_name": ".venv",
   "language": "python",
   "name": "python3"
  },
  "language_info": {
   "codemirror_mode": {
    "name": "ipython",
    "version": 3
   },
   "file_extension": ".py",
   "mimetype": "text/x-python",
   "name": "python",
   "nbconvert_exporter": "python",
   "pygments_lexer": "ipython3",
   "version": "3.11.9"
  }
 },
 "nbformat": 4,
 "nbformat_minor": 2
}
