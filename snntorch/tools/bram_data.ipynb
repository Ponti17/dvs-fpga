{
 "cells": [
  {
   "cell_type": "markdown",
   "metadata": {},
   "source": [
    "# BRAM Data Generation\n",
    "\n",
    "The BRAM data initialization files must be in `bit vector form`. This notebook contains tools for generating such a file.\n",
    "\n",
    "The file should be placed in `design_sources`."
   ]
  },
  {
   "cell_type": "markdown",
   "metadata": {},
   "source": [
    "## Imports"
   ]
  },
  {
   "cell_type": "code",
   "execution_count": 10,
   "metadata": {},
   "outputs": [],
   "source": [
    "import os\n",
    "import sys\n",
    "\n",
    "import numpy as np"
   ]
  },
  {
   "cell_type": "markdown",
   "metadata": {},
   "source": [
    "## Functions"
   ]
  },
  {
   "cell_type": "code",
   "execution_count": 23,
   "metadata": {},
   "outputs": [],
   "source": [
    "def generate_bitvector_file(filename, num_words, data, word_size=32):\n",
    "    \"\"\"\n",
    "    Generates a bitvector file with the given data in array form.\n",
    "\n",
    "    Args:\n",
    "        filename: The name of the file to write to.\n",
    "        num_words: The number of words in the file.\n",
    "        data: The array of data to write to the file.\n",
    "        word_size: The number of bits in each word.\n",
    "    \"\"\"\n",
    "    dir = abs_path(filename)\n",
    "    with open(dir, \"w\") as f:\n",
    "        for i in range(num_words):\n",
    "            bitvector = format(data[i], f'0{word_size}b')\n",
    "            f.write(str(bitvector) + \"\\n\")\n",
    "    return\n",
    "\n",
    "def abs_path(filename):\n",
    "    return os.path.join(os.path.dirname(os.path.abspath('')), filename)"
   ]
  },
  {
   "cell_type": "markdown",
   "metadata": {},
   "source": [
    "## User Code"
   ]
  },
  {
   "cell_type": "code",
   "execution_count": null,
   "metadata": {},
   "outputs": [],
   "source": [
    "# Generate data file with repeating pattert\n",
    "\n",
    "# Generate array of data\n",
    "data = np.zeros(256, dtype=np.uint32)\n",
    "\n",
    "for i in range(256):\n",
    "    data[i] = 0xAAAAAAAA\n",
    "\n",
    "filename = \"neuron_memory_init.data\"\n",
    "\n",
    "# Generate bitvector file\n",
    "generate_bitvector_file(filename, 256, data)"
   ]
  },
  {
   "cell_type": "code",
   "execution_count": null,
   "metadata": {},
   "outputs": [],
   "source": [
    "# Generate data file with repeating pattert and incrementing last byte\n",
    "\n",
    "# Generate array of data\n",
    "data = np.zeros(256, dtype=np.uint32)\n",
    "\n",
    "for i in range(256):\n",
    "    data[i] = (0xFAFAFAFA & 0xFFFFFF00) | (i & 0xFF)\n",
    "\n",
    "filename = \"neuron_memory_init.data\"\n",
    "\n",
    "# Generate bitvector file\n",
    "generate_bitvector_file(filename, 256, data)"
   ]
  }
 ],
 "metadata": {
  "kernelspec": {
   "display_name": ".venv",
   "language": "python",
   "name": "python3"
  },
  "language_info": {
   "codemirror_mode": {
    "name": "ipython",
    "version": 3
   },
   "file_extension": ".py",
   "mimetype": "text/x-python",
   "name": "python",
   "nbconvert_exporter": "python",
   "pygments_lexer": "ipython3",
   "version": "3.12.5"
  }
 },
 "nbformat": 4,
 "nbformat_minor": 2
}
