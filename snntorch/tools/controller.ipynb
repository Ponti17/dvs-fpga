{
 "cells": [
  {
   "cell_type": "markdown",
   "metadata": {},
   "source": [
    "# Controller Simulation"
   ]
  },
  {
   "cell_type": "code",
   "execution_count": 6,
   "metadata": {},
   "outputs": [],
   "source": [
    "# SNN\n",
    "import torch\n",
    "import torch.nn as nn\n",
    "from torch.utils.data import DataLoader\n",
    "\n",
    "# SNN\n",
    "import tonic\n",
    "from tonic.transforms import ToFrame\n",
    "import snntorch as snn\n",
    "from snntorch import surrogate\n",
    "from snntorch import functional as SF\n",
    "from snntorch import utils\n",
    "import snntorch.spikeplot as splt\n",
    "\n",
    "# Visualization\n",
    "import matplotlib.pyplot as plt\n",
    "import matplotlib.animation as animation\n",
    "from IPython.display import HTML\n",
    "\n",
    "# Misc\n",
    "import numpy as np\n",
    "import numpy.lib.recfunctions as rf\n",
    "\n",
    "# Core\n",
    "import os"
   ]
  },
  {
   "cell_type": "markdown",
   "metadata": {},
   "source": [
    "## Single Layer SNN"
   ]
  },
  {
   "cell_type": "code",
   "execution_count": null,
   "metadata": {},
   "outputs": [],
   "source": [
    "# Parameters\n",
    "num_inputs  = 8*6\n",
    "num_outputs = 10\n",
    "beta        = 0.5\n",
    "\n",
    "# Initialize layers\n",
    "fc1  = nn.Linear(num_inputs, num_outputs)\n",
    "lif1 = snn.Leaky(beta=beta, threshold=50, reset_mechanism='zero')\n",
    "\n",
    "# Initialize FC\n",
    "torch.nn.init.zeros_(fc1.bias)  # Initialize bias to zero\n",
    "torch.nn.init.ones_(fc1.weight) # Initialize weights to one\n",
    "\n",
    "# Initialize hidden states\n",
    "mem1 = lif1.init_leaky()\n",
    "\n",
    "# Outputs\n",
    "mem1_rec = []\n",
    "spk1_rec = []\n",
    "\n",
    "num_steps = 100\n",
    "spk_in = torch.ones((num_steps, num_inputs))\n",
    "for step in range(num_steps):\n",
    "    cur1 = fc1(spk_in[step])\n",
    "    spk1, mem1 = lif1(cur1, mem1)\n",
    "    mem1_rec.append(mem1)\n",
    "    spk1_rec.append(spk1)\n",
    "\n",
    "mem1_rec = torch.stack(mem1_rec)\n",
    "spk1_rec = torch.stack(spk1_rec)\n",
    "\n",
    "# Plot\n",
    "spk_in_plot = spk_in.reshape((num_steps, -1))\n",
    "spk1_rec_plot = spk1_rec.reshape((num_steps, -1))\n",
    "\n",
    "fig, axs = plt.subplots(2, 1, figsize=(10, 6), facecolor='w', sharex=True)\n",
    "splt.raster(spk_in_plot, axs[0], s=1.5, c=\"black\")\n",
    "splt.raster(spk1_rec_plot, axs[1], s=1.5, c=\"black\")\n",
    "\n",
    "axs[0].set_title(\"Input Layer\")\n",
    "axs[0].set_ylabel(\"Input Spikes\")\n",
    "axs[1].set_xlabel(\"Time step\")\n",
    "axs[1].set_ylabel(\"Output Spikes\")\n",
    "plt.show()"
   ]
  },
  {
   "cell_type": "markdown",
   "metadata": {},
   "source": [
    "## MNIST Preprocessing"
   ]
  },
  {
   "cell_type": "code",
   "execution_count": 7,
   "metadata": {},
   "outputs": [
    {
     "ename": "AttributeError",
     "evalue": "module 'tonic.transforms' has no attribute 'Resize'",
     "output_type": "error",
     "traceback": [
      "\u001b[1;31m---------------------------------------------------------------------------\u001b[0m",
      "\u001b[1;31mAttributeError\u001b[0m                            Traceback (most recent call last)",
      "Cell \u001b[1;32mIn[7], line 3\u001b[0m\n\u001b[0;32m      1\u001b[0m dataset_transform \u001b[38;5;241m=\u001b[39m tonic\u001b[38;5;241m.\u001b[39mtransforms\u001b[38;5;241m.\u001b[39mCompose([\n\u001b[0;32m      2\u001b[0m     ToFrame(sensor_size\u001b[38;5;241m=\u001b[39m(\u001b[38;5;241m28\u001b[39m, \u001b[38;5;241m28\u001b[39m)),  \u001b[38;5;66;03m# Convert event-based data to frame\u001b[39;00m\n\u001b[1;32m----> 3\u001b[0m     \u001b[43mtonic\u001b[49m\u001b[38;5;241;43m.\u001b[39;49m\u001b[43mtransforms\u001b[49m\u001b[38;5;241;43m.\u001b[39;49m\u001b[43mResize\u001b[49m((\u001b[38;5;241m8\u001b[39m, \u001b[38;5;241m6\u001b[39m))  \u001b[38;5;66;03m# Resize to 8x6\u001b[39;00m\n\u001b[0;32m      4\u001b[0m ])\n\u001b[0;32m      7\u001b[0m \u001b[38;5;66;03m# Load MNIST SNN dataset using Tonic\u001b[39;00m\n\u001b[0;32m      8\u001b[0m mnist_dataset \u001b[38;5;241m=\u001b[39m tonic\u001b[38;5;241m.\u001b[39mdatasets\u001b[38;5;241m.\u001b[39mMNIST(root\u001b[38;5;241m=\u001b[39m\u001b[38;5;124m\"\u001b[39m\u001b[38;5;124m./data\u001b[39m\u001b[38;5;124m\"\u001b[39m, transform\u001b[38;5;241m=\u001b[39mdataset_transform, download\u001b[38;5;241m=\u001b[39m\u001b[38;5;28;01mTrue\u001b[39;00m)\n",
      "\u001b[1;31mAttributeError\u001b[0m: module 'tonic.transforms' has no attribute 'Resize'"
     ]
    }
   ],
   "source": [
    "dataset_transform = tonic.transforms.Compose([\n",
    "    ToFrame(sensor_size=(28, 28)),  # Convert event-based data to frame\n",
    "    tonic.transforms.Resize((8, 6))  # Resize to 8x6\n",
    "])\n",
    "\n",
    "\n",
    "# Load MNIST SNN dataset using Tonic\n",
    "mnist_dataset = tonic.datasets.MNIST(root=\"./data\", transform=dataset_transform, download=True)\n",
    "data_loader = DataLoader(mnist_dataset, batch_size=1, shuffle=True)\n",
    "\n",
    "# Define a simple convolutional kernel\n",
    "conv_kernel = torch.tensor([[[-1, -1, -1],\n",
    "                             [-1,  8, -1],\n",
    "                             [-1, -1, -1]]], dtype=torch.float32).unsqueeze(0)  # Shape (1,1,3,3)\n",
    "\n",
    "# Process a single batch (one event frame)\n",
    "data_iter = iter(data_loader)\n",
    "image, label = next(data_iter)\n",
    "\n",
    "# Ensure image has correct shape\n",
    "image = image.unsqueeze(0)  # Shape: (1, 1, 8, 6)\n",
    "conv_result = F.conv2d(image, conv_kernel, padding=1)  # Output shape: (1, 1, 8, 6)\n",
    "\n",
    "# Remove batch dimension and convert back to numpy for visualization\n",
    "final_image = conv_result.squeeze(0).squeeze(0).detach().numpy()\n",
    "\n",
    "print(f\"Processed Image Shape: {final_image.shape}\")\n"
   ]
  },
  {
   "cell_type": "code",
   "execution_count": null,
   "metadata": {},
   "outputs": [],
   "source": []
  }
 ],
 "metadata": {
  "kernelspec": {
   "display_name": ".venv",
   "language": "python",
   "name": "python3"
  },
  "language_info": {
   "codemirror_mode": {
    "name": "ipython",
    "version": 3
   },
   "file_extension": ".py",
   "mimetype": "text/x-python",
   "name": "python",
   "nbconvert_exporter": "python",
   "pygments_lexer": "ipython3",
   "version": "3.12.5"
  }
 },
 "nbformat": 4,
 "nbformat_minor": 2
}
